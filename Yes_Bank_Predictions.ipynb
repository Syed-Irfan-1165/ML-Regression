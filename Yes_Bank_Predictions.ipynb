{
  "nbformat": 4,
  "nbformat_minor": 0,
  "metadata": {
    "colab": {
      "provenance": [],
      "authorship_tag": "ABX9TyOu2v/2yMg651CjauAg0SZM",
      "include_colab_link": true
    },
    "kernelspec": {
      "name": "python3",
      "display_name": "Python 3"
    },
    "language_info": {
      "name": "python"
    }
  },
  "cells": [
    {
      "cell_type": "markdown",
      "metadata": {
        "id": "view-in-github",
        "colab_type": "text"
      },
      "source": [
        "<a href=\"https://colab.research.google.com/github/Syed-Irfan-1165/ML-Regression/blob/master/Yes_Bank_Predictions.ipynb\" target=\"_parent\"><img src=\"https://colab.research.google.com/assets/colab-badge.svg\" alt=\"Open In Colab\"/></a>"
      ]
    },
    {
      "cell_type": "markdown",
      "source": [
        "#Project Summary"
      ],
      "metadata": {
        "id": "skoxbTtdbBTg"
      }
    },
    {
      "cell_type": "markdown",
      "source": [
        "##Yes Bank is a well-known bank in the Indian financial domain. Since 2018, it has been in the news because of the fraud case involving Rana Kapoor. Owing to this fact, it was interesting to see how that impacted the stock prices of the company and whether Time series models or any other predictive models can do justice to such situations. This dataset has monthly stock prices of the bank since its inception and includes closing, starting, highest, and lowest stock prices of every month. The main objective is to predict the stock's closing price of the month.\n"
      ],
      "metadata": {
        "id": "uvYLYkll_hVc"
      }
    },
    {
      "cell_type": "markdown",
      "source": [
        "## <b>Data Description </b>\n"
      ],
      "metadata": {
        "id": "s_k3o-0r_jQo"
      }
    },
    {
      "cell_type": "markdown",
      "metadata": {
        "id": "qkoxnUDL0JZd"
      },
      "source": [
        "# **Data Preparation**"
      ]
    },
    {
      "cell_type": "markdown",
      "metadata": {
        "id": "Xr4R0HVABMiy"
      },
      "source": [
        "## **Importing and Inspecting Dataset**"
      ]
    },
    {
      "cell_type": "code",
      "metadata": {
        "id": "X9hv1Z-a0yUU"
      },
      "source": [],
      "execution_count": null,
      "outputs": []
    },
    {
      "cell_type": "markdown",
      "metadata": {
        "id": "9nMXan56JLCZ"
      },
      "source": [
        "## **Missing Values Treatment**"
      ]
    },
    {
      "cell_type": "markdown",
      "metadata": {
        "id": "C8B8YQHe0b8X"
      },
      "source": [
        "# **Exploratory Data Analysis**"
      ]
    },
    {
      "cell_type": "markdown",
      "source": [
        "## **Handling Outliers**"
      ],
      "metadata": {
        "id": "iU8PPi0DElHH"
      }
    },
    {
      "cell_type": "markdown",
      "source": [
        "\n",
        "\n",
        "##**Cleaning and Manipulating dataset**"
      ],
      "metadata": {
        "id": "p_MLTvKRw1d0"
      }
    },
    {
      "cell_type": "markdown",
      "source": [
        "##**Univariate Analysis**"
      ],
      "metadata": {
        "id": "jHdnDkEbexHm"
      }
    },
    {
      "cell_type": "markdown",
      "source": [
        "##**Bivariate Analysis**"
      ],
      "metadata": {
        "id": "zI2kbmNMmvow"
      }
    },
    {
      "cell_type": "markdown",
      "source": [
        "##**Multivariate Analysis**"
      ],
      "metadata": {
        "id": "kaSBWk2XaABu"
      }
    },
    {
      "cell_type": "markdown",
      "metadata": {
        "id": "991qiNanpVEj"
      },
      "source": [
        "\n",
        "\n",
        "##**Removing Multicolinearity**"
      ]
    },
    {
      "cell_type": "markdown",
      "metadata": {
        "id": "Gm4VigKVQd6j"
      },
      "source": [
        "\n",
        "\n",
        "#**Model building**"
      ]
    },
    {
      "cell_type": "markdown",
      "metadata": {
        "id": "BgpA780-d8Lq"
      },
      "source": [
        "##**Conclusion**"
      ]
    }
  ]
}